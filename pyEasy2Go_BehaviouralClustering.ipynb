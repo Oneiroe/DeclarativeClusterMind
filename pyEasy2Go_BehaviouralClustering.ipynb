{
 "cells": [
  {
   "cell_type": "markdown",
   "metadata": {
    "collapsed": true,
    "pycharm": {
     "name": "#%% md\n"
    }
   },
   "source": [
    "Import Janus results and prepare vectors from the \\[measure X constraint\\] matrices of each trace"
   ]
  },
  {
   "cell_type": "code",
   "execution_count": 10,
   "outputs": [
    {
     "name": "stdout",
     "output_type": "stream",
     "text": [
      "Retrieving results data...\n",
      "traces:6,constraints:3,measures:36\n",
      "Importing data...\n",
      "result shape:(6, 3, 36)\n",
      "2D shape:(6, 108)\n"
     ]
    }
   ],
   "source": [
    "import numpy as np\n",
    "import ClusterMind.IO.SJ2T_import as cmio\n",
    "import ClusterMind.cm_clustering as cmc\n",
    "from sklearn.cluster import KMeans\n",
    "\n",
    "file_path = \"test/result_m03_t06.csv\"\n",
    "file_format = 'csv'\n",
    "\n",
    "input3D = cmio.import_SJ2T(file_path, file_format)\n",
    "input2D = input3D.reshape((input3D.shape[0], input3D.shape[1] * input3D.shape[2]))\n",
    "print(\"2D shape:\" + str(input2D.shape))\n",
    "\n",
    "# Clean NaN and infinity\n",
    "input2D = np.nan_to_num(input2D, posinf=1.7976931348623157e+100, neginf=-1.7976931348623157e+100)\n",
    "\n",
    "traces = input3D.shape[0]\n",
    "constraints = input3D.shape[1]\n",
    "measures = input3D.shape[2]"
   ],
   "metadata": {
    "collapsed": false,
    "pycharm": {
     "name": "#%%\n"
    }
   }
  },
  {
   "cell_type": "markdown",
   "source": [
    "Cluster Traces"
   ],
   "metadata": {
    "collapsed": false
   }
  },
  {
   "cell_type": "code",
   "execution_count": 12,
   "outputs": [
    {
     "name": "stderr",
     "output_type": "stream",
     "text": [
      "/home/alessio/Data/Phd/my_code/PyVEnv/ClusterMind/lib/python3.6/site-packages/sklearn/cluster/_affinity_propagation.py:152: FutureWarning: 'random_state' has been introduced in 0.23. It will be set to None starting from 0.25 which means that results will differ at every function call. Set 'random_state' to None to silence this warning, or to 0 to keep the behavior of versions <0.23.\n",
      "  FutureWarning)\n",
      "/home/alessio/Data/Phd/my_code/PyVEnv/ClusterMind/lib/python3.6/site-packages/sklearn/manifold/_spectral_embedding.py:236: UserWarning: Graph is not fully connected, spectral embedding may not work as expected.\n",
      "  warnings.warn(\"Graph is not fully connected, spectral embedding\"\n"
     ]
    },
    {
     "name": "stdout",
     "output_type": "stream",
     "text": [
      "Kmeans: \t\t[1 1 1 2 0 0]\n",
      "Affinity: \t\t[0 0 0 0 1 1]\n",
      "mean_shift: \t[2 4 5 3 0 1]\n",
      "Agglomerative: \t[0 0 0 2 1 1]\n",
      "Spectral: \t\t[1 1 0 2 1 0]\n",
      "DBSCAN: \t\t[-1 -1 -1 -1 -1 -1]\n",
      "OPTICS: \t\t[0 0 0 0 0 0]\n",
      "birch: \t\t\t[0 0 0 2 1 1]\n"
     ]
    }
   ],
   "source": [
    "cmc.cluster_traces(input2D, traces, constraints, measures)"
   ],
   "metadata": {
    "collapsed": false,
    "pycharm": {
     "name": "#%%\n"
    }
   }
  },
  {
   "cell_type": "markdown",
   "source": [
    "Visualize/Export results"
   ],
   "metadata": {
    "collapsed": false,
    "pycharm": {
     "name": "#%% md\n"
    }
   }
  },
  {
   "cell_type": "code",
   "execution_count": null,
   "outputs": [],
   "source": [
    "print(\"TO-DO\")"
   ],
   "metadata": {
    "collapsed": false,
    "pycharm": {
     "name": "#%%"
    }
   }
  }
 ],
 "metadata": {
  "kernelspec": {
   "display_name": "Python 3",
   "language": "python",
   "name": "python3"
  },
  "language_info": {
   "codemirror_mode": {
    "name": "ipython",
    "version": 2
   },
   "file_extension": ".py",
   "mimetype": "text/x-python",
   "name": "python",
   "nbconvert_exporter": "python",
   "pygments_lexer": "ipython2",
   "version": "2.7.6"
  }
 },
 "nbformat": 4,
 "nbformat_minor": 0
}