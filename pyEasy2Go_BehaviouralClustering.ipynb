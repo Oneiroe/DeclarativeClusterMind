{
 "cells": [
  {
   "cell_type": "markdown",
   "metadata": {
    "collapsed": true,
    "pycharm": {
     "name": "#%% md\n"
    }
   },
   "source": [
    "Parameters"
   ]
  },
  {
   "cell_type": "code",
   "execution_count": 2,
   "outputs": [],
   "source": [
    "import ClusterMind.IO.J3Tree_import as cmio\n",
    "import ClusterMind.cm_clustering as cmc\n",
    "\n",
    "EXPERIMENT_NAME = \"experiments/DECISION-TREE-CLUSTERS\"\n",
    "INPUT_FOLDER = EXPERIMENT_NAME + \"/0-input\"\n",
    "PREPROCESSED_DATA_FOLDER = EXPERIMENT_NAME + \"/1-generated-logs-and-models\"\n",
    "PROCESSED_DATA_FOLDER = EXPERIMENT_NAME + \"/2-clustered-logs\"\n",
    "RESULTS_FOLDER = EXPERIMENT_NAME + \"/3-results\"\n",
    "\n",
    "LOG_NAME = \"SEPSIS\"\n",
    "\n",
    "output_folder = PROCESSED_DATA_FOLDER + \"/\"\n",
    "trace_measures_csv_file_path = PREPROCESSED_DATA_FOLDER + \"/\" + LOG_NAME + \"-output[tracesMeasures].csv\"\n",
    "log_file_path = INPUT_FOLDER + \"/\" + LOG_NAME + \"-log.xes\""
   ],
   "metadata": {
    "collapsed": false,
    "pycharm": {
     "name": "#%%\n"
    }
   }
  },
  {
   "cell_type": "markdown",
   "source": [
    "META"
   ],
   "metadata": {
    "collapsed": false
   }
  },
  {
   "cell_type": "code",
   "execution_count": 3,
   "outputs": [
    {
     "name": "stdout",
     "output_type": "stream",
     "text": [
      "Retrieving results data...\n",
      "traces:8411,constraints:3185,measures:37\n"
     ]
    }
   ],
   "source": [
    "traces_num, constraints_num, measures_num, constraints_names = cmio.retrieve_trace_measures_metadata(\n",
    "    trace_measures_csv_file_path)"
   ],
   "metadata": {
    "collapsed": false,
    "pycharm": {
     "name": "#%%\n"
    }
   }
  },
  {
   "cell_type": "markdown",
   "source": [
    "Cluster Traces"
   ],
   "metadata": {
    "collapsed": false
   }
  },
  {
   "cell_type": "code",
   "execution_count": 4,
   "outputs": [
    {
     "name": "stdout",
     "output_type": "stream",
     "text": [
      "Retrieving results data...\n",
      "traces:1050,constraints:3185,measures:36\n",
      "Importing data...\n",
      "3D shape:(1050, 3185, 36)\n",
      "2D shape:(1050, 114660)\n",
      "Dimension of data PCA= (1050, 89)\n",
      "Clustering...\n",
      "OPTICS: \t\t[ 0  1 56 ... 47  4 47]\n"
     ]
    },
    {
     "name": "stderr",
     "output_type": "stream",
     "text": [
      "/home/alessio/Data/Phd/my_code/PyVEnv/ClusterMind/lib/python3.6/site-packages/sklearn/cluster/_optics.py:804: RuntimeWarning:\n",
      "\n",
      "divide by zero encountered in true_divide\n",
      "\n"
     ]
    }
   ],
   "source": [
    "# CLUSTERING\n",
    "#        'kmeans',  # 0\n",
    "#        'affinity',  # 1\n",
    "#        'meanshift',  # 2\n",
    "#        'agglomerative',  # 3\n",
    "#        'spectral',  # 4\n",
    "#        'dbscan',  # 5\n",
    "#        'optics',  # 6\n",
    "#        'birch',  # 7\n",
    "#        'gaussian',  # 8 DO NOT USE THIS!\n",
    "clustering_algorithm = \"optics\"\n",
    "boolean_confidence = True\n",
    "\n",
    "clusters, pca, input2D = cmc.cluster_traces_from_rules_trace_measures(trace_measures_csv_file_path, clustering_algorithm,\n",
    "                                                      boolean_confidence)"
   ],
   "metadata": {
    "collapsed": false,
    "pycharm": {
     "name": "#%%\n"
    }
   }
  },
  {
   "cell_type": "markdown",
   "source": [
    "Clusters Stats"
   ],
   "metadata": {
    "collapsed": false
   }
  },
  {
   "cell_type": "code",
   "execution_count": 5,
   "outputs": [
    {
     "name": "stdout",
     "output_type": "stream",
     "text": [
      ">>>>>>>>>> Statistics\n"
     ]
    },
    {
     "data": {
      "text/plain": "HBox(children=(FloatProgress(value=0.0, description='parsing log, completed traces :: ', max=1050.0, style=Pro…",
      "application/vnd.jupyter.widget-view+json": {
       "version_major": 2,
       "version_minor": 0,
       "model_id": "7f478b8387e64433be6bcb66d6444456"
      }
     },
     "metadata": {},
     "output_type": "display_data"
    },
    {
     "name": "stdout",
     "output_type": "stream",
     "text": [
      "\n",
      "Exporting traces cluster labels to experiments/DECISION-TREE-CLUSTERS/2-clustered-logs/Sepsis Cases - Event Log_traces-labels.csv\n"
     ]
    },
    {
     "data": {
      "text/plain": "    CLUSTER_NUM  TRACES  TRACE-LEN-AVG  TRACE-LEN-MIN  TRACE-LEN-MAX  \\\n0             0       9      15.333333             12             22   \n1             1      11      15.090909             12             25   \n2             2       7      15.857143             13             20   \n3             3       9      16.333333             12             26   \n4             4      10      19.700000             14             27   \n..          ...     ...            ...            ...            ...   \n62           62       8      32.750000             21             51   \n63           63       6      11.500000              8             22   \n64           64       6      32.500000             18             66   \n65           65       6      21.666667             15             32   \n66           -1     394      16.649746              4            185   \n\n    DURATION-MEDIAN  DURATION-MIN  DURATION-MAX  CASE-ARRIVAL-AVG  TASKS-NUM  \\\n0          386490.0      297923.0      968359.0         3579232.0         10   \n1          512599.0      317611.0     1323886.0         1877105.0         10   \n2          520769.0      262275.0     1286748.0         4723646.5         10   \n3          580617.0      421882.0     1982265.0         1262308.5         10   \n4          856856.0      408682.0     1391624.0         2028432.0         10   \n..              ...           ...           ...               ...        ...   \n62        1181736.0      652458.0     3377932.0         2734837.0         10   \n63         222010.0       11666.0      705997.0         2154176.0          8   \n64         610869.0      202556.0     3906842.0         2667555.0         11   \n65        9508427.0     2426270.0    11930260.0         5305512.0         11   \n66         546888.0         354.0    36445607.0           70741.0         16   \n\n                                                TASKS  \n0   {'ER Registration', 'ER Triage', 'Release A', ...  \n1   {'ER Registration', 'ER Triage', 'Release A', ...  \n2   {'ER Registration', 'ER Triage', 'Release A', ...  \n3   {'ER Registration', 'ER Triage', 'Release A', ...  \n4   {'ER Registration', 'ER Triage', 'Release A', ...  \n..                                                ...  \n62  {'ER Registration', 'ER Triage', 'Admission IC...  \n63  {'ER Registration', 'ER Triage', 'Admission NC...  \n64  {'ER Registration', 'ER Triage', 'Admission IC...  \n65  {'ER Registration', 'Return ER', 'ER Triage', ...  \n66  {'ER Registration', 'Return ER', 'ER Triage', ...  \n\n[67 rows x 11 columns]",
      "text/html": "<div>\n<style scoped>\n    .dataframe tbody tr th:only-of-type {\n        vertical-align: middle;\n    }\n\n    .dataframe tbody tr th {\n        vertical-align: top;\n    }\n\n    .dataframe thead th {\n        text-align: right;\n    }\n</style>\n<table border=\"1\" class=\"dataframe\">\n  <thead>\n    <tr style=\"text-align: right;\">\n      <th></th>\n      <th>CLUSTER_NUM</th>\n      <th>TRACES</th>\n      <th>TRACE-LEN-AVG</th>\n      <th>TRACE-LEN-MIN</th>\n      <th>TRACE-LEN-MAX</th>\n      <th>DURATION-MEDIAN</th>\n      <th>DURATION-MIN</th>\n      <th>DURATION-MAX</th>\n      <th>CASE-ARRIVAL-AVG</th>\n      <th>TASKS-NUM</th>\n      <th>TASKS</th>\n    </tr>\n  </thead>\n  <tbody>\n    <tr>\n      <th>0</th>\n      <td>0</td>\n      <td>9</td>\n      <td>15.333333</td>\n      <td>12</td>\n      <td>22</td>\n      <td>386490.0</td>\n      <td>297923.0</td>\n      <td>968359.0</td>\n      <td>3579232.0</td>\n      <td>10</td>\n      <td>{'ER Registration', 'ER Triage', 'Release A', ...</td>\n    </tr>\n    <tr>\n      <th>1</th>\n      <td>1</td>\n      <td>11</td>\n      <td>15.090909</td>\n      <td>12</td>\n      <td>25</td>\n      <td>512599.0</td>\n      <td>317611.0</td>\n      <td>1323886.0</td>\n      <td>1877105.0</td>\n      <td>10</td>\n      <td>{'ER Registration', 'ER Triage', 'Release A', ...</td>\n    </tr>\n    <tr>\n      <th>2</th>\n      <td>2</td>\n      <td>7</td>\n      <td>15.857143</td>\n      <td>13</td>\n      <td>20</td>\n      <td>520769.0</td>\n      <td>262275.0</td>\n      <td>1286748.0</td>\n      <td>4723646.5</td>\n      <td>10</td>\n      <td>{'ER Registration', 'ER Triage', 'Release A', ...</td>\n    </tr>\n    <tr>\n      <th>3</th>\n      <td>3</td>\n      <td>9</td>\n      <td>16.333333</td>\n      <td>12</td>\n      <td>26</td>\n      <td>580617.0</td>\n      <td>421882.0</td>\n      <td>1982265.0</td>\n      <td>1262308.5</td>\n      <td>10</td>\n      <td>{'ER Registration', 'ER Triage', 'Release A', ...</td>\n    </tr>\n    <tr>\n      <th>4</th>\n      <td>4</td>\n      <td>10</td>\n      <td>19.700000</td>\n      <td>14</td>\n      <td>27</td>\n      <td>856856.0</td>\n      <td>408682.0</td>\n      <td>1391624.0</td>\n      <td>2028432.0</td>\n      <td>10</td>\n      <td>{'ER Registration', 'ER Triage', 'Release A', ...</td>\n    </tr>\n    <tr>\n      <th>...</th>\n      <td>...</td>\n      <td>...</td>\n      <td>...</td>\n      <td>...</td>\n      <td>...</td>\n      <td>...</td>\n      <td>...</td>\n      <td>...</td>\n      <td>...</td>\n      <td>...</td>\n      <td>...</td>\n    </tr>\n    <tr>\n      <th>62</th>\n      <td>62</td>\n      <td>8</td>\n      <td>32.750000</td>\n      <td>21</td>\n      <td>51</td>\n      <td>1181736.0</td>\n      <td>652458.0</td>\n      <td>3377932.0</td>\n      <td>2734837.0</td>\n      <td>10</td>\n      <td>{'ER Registration', 'ER Triage', 'Admission IC...</td>\n    </tr>\n    <tr>\n      <th>63</th>\n      <td>63</td>\n      <td>6</td>\n      <td>11.500000</td>\n      <td>8</td>\n      <td>22</td>\n      <td>222010.0</td>\n      <td>11666.0</td>\n      <td>705997.0</td>\n      <td>2154176.0</td>\n      <td>8</td>\n      <td>{'ER Registration', 'ER Triage', 'Admission NC...</td>\n    </tr>\n    <tr>\n      <th>64</th>\n      <td>64</td>\n      <td>6</td>\n      <td>32.500000</td>\n      <td>18</td>\n      <td>66</td>\n      <td>610869.0</td>\n      <td>202556.0</td>\n      <td>3906842.0</td>\n      <td>2667555.0</td>\n      <td>11</td>\n      <td>{'ER Registration', 'ER Triage', 'Admission IC...</td>\n    </tr>\n    <tr>\n      <th>65</th>\n      <td>65</td>\n      <td>6</td>\n      <td>21.666667</td>\n      <td>15</td>\n      <td>32</td>\n      <td>9508427.0</td>\n      <td>2426270.0</td>\n      <td>11930260.0</td>\n      <td>5305512.0</td>\n      <td>11</td>\n      <td>{'ER Registration', 'Return ER', 'ER Triage', ...</td>\n    </tr>\n    <tr>\n      <th>66</th>\n      <td>-1</td>\n      <td>394</td>\n      <td>16.649746</td>\n      <td>4</td>\n      <td>185</td>\n      <td>546888.0</td>\n      <td>354.0</td>\n      <td>36445607.0</td>\n      <td>70741.0</td>\n      <td>16</td>\n      <td>{'ER Registration', 'Return ER', 'ER Triage', ...</td>\n    </tr>\n  </tbody>\n</table>\n<p>67 rows × 11 columns</p>\n</div>"
     },
     "execution_count": 5,
     "metadata": {},
     "output_type": "execute_result"
    }
   ],
   "source": [
    "import pandas as pd\n",
    "\n",
    "# STATS\n",
    "cmc.retrieve_cluster_statistics(clusters, log_file_path, output_folder)\n",
    "\n",
    "df = pd.read_csv(\n",
    "    \"/home/alessio/Data/Phd/my_code/ClusterMind/experiments/DECISION-TREE-CLUSTERS/2-clustered-logs/Sepsis Cases - Event Log_clusters-stats.csv\",\n",
    "    delimiter=';')\n",
    "df"
   ],
   "metadata": {
    "collapsed": false,
    "pycharm": {
     "name": "#%%\n"
    }
   }
  },
  {
   "cell_type": "markdown",
   "source": [
    "Visualize/Export results"
   ],
   "metadata": {
    "collapsed": false,
    "pycharm": {
     "name": "#%% md\n"
    }
   }
  },
  {
   "cell_type": "code",
   "execution_count": 7,
   "outputs": [
    {
     "name": "stderr",
     "output_type": "stream",
     "text": [
      "warning: PYDEVD_USE_CYTHON environment variable is set to 'NO'. Frame evaluator will be also disabled because it requires Cython extensions to be enabled in order to operate correctly.\n"
     ]
    },
    {
     "name": "stdout",
     "output_type": "stream",
     "text": [
      ">>>>>>>>>>>> Visualization\n",
      ">>>>>visualize PCA selected constraints\n"
     ]
    },
    {
     "ename": "KeyboardInterrupt",
     "evalue": "",
     "output_type": "error",
     "traceback": [
      "\u001B[0;31m---------------------------------------------------------------------------\u001B[0m",
      "\u001B[0;31mKeyboardInterrupt\u001B[0m                         Traceback (most recent call last)",
      "\u001B[0;32m<ipython-input-7-e296b8afc6c3>\u001B[0m in \u001B[0;36m<module>\u001B[0;34m\u001B[0m\n\u001B[1;32m     14\u001B[0m     \u001B[0;31m# labels, traces_index = sj2tio.import_SJ2T_labels(trace_measures_csv_file_path, threshold)\u001B[0m\u001B[0;34m\u001B[0m\u001B[0;34m\u001B[0m\u001B[0;34m\u001B[0m\u001B[0m\n\u001B[1;32m     15\u001B[0m     \u001B[0;31m# cmc.visualize_constraints_in_clusters(clusters, labels, traces_index)\u001B[0m\u001B[0;34m\u001B[0m\u001B[0;34m\u001B[0m\u001B[0;34m\u001B[0m\u001B[0m\n\u001B[0;32m---> 16\u001B[0;31m     \u001B[0mcmc\u001B[0m\u001B[0;34m.\u001B[0m\u001B[0mvisualize_centroids_constraints\u001B[0m\u001B[0;34m(\u001B[0m\u001B[0mclusters\u001B[0m\u001B[0;34m,\u001B[0m \u001B[0mpca\u001B[0m\u001B[0;34m,\u001B[0m \u001B[0mthreshold\u001B[0m\u001B[0;34m,\u001B[0m \u001B[0mmeasures_num\u001B[0m\u001B[0;34m,\u001B[0m \u001B[0mconstraints_names\u001B[0m\u001B[0;34m,\u001B[0m \u001B[0moutput_folder\u001B[0m\u001B[0;34m)\u001B[0m\u001B[0;34m\u001B[0m\u001B[0;34m\u001B[0m\u001B[0m\n\u001B[0m\u001B[1;32m     17\u001B[0m \u001B[0;32melse\u001B[0m\u001B[0;34m:\u001B[0m\u001B[0;34m\u001B[0m\u001B[0;34m\u001B[0m\u001B[0m\n\u001B[1;32m     18\u001B[0m     \u001B[0mprint\u001B[0m\u001B[0;34m(\u001B[0m\u001B[0;34m\">>>>>>>>>>>> Visualization SKIPPED\"\u001B[0m\u001B[0;34m)\u001B[0m\u001B[0;34m\u001B[0m\u001B[0;34m\u001B[0m\u001B[0m\n",
      "\u001B[0;32m~/Data/Phd/my_code/ClusterMind/ClusterMind/cm_clustering.py\u001B[0m in \u001B[0;36mvisualize_centroids_constraints\u001B[0;34m(clusters, pca, threshold, measures, constraints, output_folder)\u001B[0m\n\u001B[1;32m    418\u001B[0m             \u001B[0mcsv_output\u001B[0m\u001B[0;34m.\u001B[0m\u001B[0mwriterow\u001B[0m\u001B[0;34m(\u001B[0m\u001B[0mpca_features\u001B[0m\u001B[0;34m.\u001B[0m\u001B[0mtranspose\u001B[0m\u001B[0;34m(\u001B[0m\u001B[0;34m)\u001B[0m\u001B[0;34m[\u001B[0m\u001B[0mi\u001B[0m\u001B[0;34m]\u001B[0m\u001B[0;34m)\u001B[0m\u001B[0;34m\u001B[0m\u001B[0;34m\u001B[0m\u001B[0m\n\u001B[1;32m    419\u001B[0m \u001B[0;34m\u001B[0m\u001B[0m\n\u001B[0;32m--> 420\u001B[0;31m         \u001B[0mplt\u001B[0m\u001B[0;34m.\u001B[0m\u001B[0mmatshow\u001B[0m\u001B[0;34m(\u001B[0m\u001B[0mpca_features\u001B[0m\u001B[0;34m.\u001B[0m\u001B[0mcorr\u001B[0m\u001B[0;34m(\u001B[0m\u001B[0;34m)\u001B[0m\u001B[0;34m)\u001B[0m\u001B[0;34m\u001B[0m\u001B[0;34m\u001B[0m\u001B[0m\n\u001B[0m\u001B[1;32m    421\u001B[0m         \u001B[0mplt\u001B[0m\u001B[0;34m.\u001B[0m\u001B[0mshow\u001B[0m\u001B[0;34m(\u001B[0m\u001B[0;34m)\u001B[0m\u001B[0;34m\u001B[0m\u001B[0;34m\u001B[0m\u001B[0m\n\u001B[1;32m    422\u001B[0m \u001B[0;34m\u001B[0m\u001B[0m\n",
      "\u001B[0;32m~/Data/Phd/my_code/ClusterMind/ClusterMind/cm_clustering.py\u001B[0m in \u001B[0;36mvisualize_centroids_constraints\u001B[0;34m(clusters, pca, threshold, measures, constraints, output_folder)\u001B[0m\n\u001B[1;32m    418\u001B[0m             \u001B[0mcsv_output\u001B[0m\u001B[0;34m.\u001B[0m\u001B[0mwriterow\u001B[0m\u001B[0;34m(\u001B[0m\u001B[0mpca_features\u001B[0m\u001B[0;34m.\u001B[0m\u001B[0mtranspose\u001B[0m\u001B[0;34m(\u001B[0m\u001B[0;34m)\u001B[0m\u001B[0;34m[\u001B[0m\u001B[0mi\u001B[0m\u001B[0;34m]\u001B[0m\u001B[0;34m)\u001B[0m\u001B[0;34m\u001B[0m\u001B[0;34m\u001B[0m\u001B[0m\n\u001B[1;32m    419\u001B[0m \u001B[0;34m\u001B[0m\u001B[0m\n\u001B[0;32m--> 420\u001B[0;31m         \u001B[0mplt\u001B[0m\u001B[0;34m.\u001B[0m\u001B[0mmatshow\u001B[0m\u001B[0;34m(\u001B[0m\u001B[0mpca_features\u001B[0m\u001B[0;34m.\u001B[0m\u001B[0mcorr\u001B[0m\u001B[0;34m(\u001B[0m\u001B[0;34m)\u001B[0m\u001B[0;34m)\u001B[0m\u001B[0;34m\u001B[0m\u001B[0;34m\u001B[0m\u001B[0m\n\u001B[0m\u001B[1;32m    421\u001B[0m         \u001B[0mplt\u001B[0m\u001B[0;34m.\u001B[0m\u001B[0mshow\u001B[0m\u001B[0;34m(\u001B[0m\u001B[0;34m)\u001B[0m\u001B[0;34m\u001B[0m\u001B[0;34m\u001B[0m\u001B[0m\n\u001B[1;32m    422\u001B[0m \u001B[0;34m\u001B[0m\u001B[0m\n",
      "\u001B[0;32m~/.local/share/JetBrains/Toolbox/apps/PyCharm-P/ch-0/211.6693.115/plugins/python/helpers/pydev/_pydevd_bundle/pydevd_frame.py\u001B[0m in \u001B[0;36mtrace_dispatch\u001B[0;34m(self, frame, event, arg)\u001B[0m\n\u001B[1;32m    745\u001B[0m                 \u001B[0;31m# if thread has a suspend flag, we suspend with a busy wait\u001B[0m\u001B[0;34m\u001B[0m\u001B[0;34m\u001B[0m\u001B[0;34m\u001B[0m\u001B[0m\n\u001B[1;32m    746\u001B[0m                 \u001B[0;32mif\u001B[0m \u001B[0minfo\u001B[0m\u001B[0;34m.\u001B[0m\u001B[0mpydev_state\u001B[0m \u001B[0;34m==\u001B[0m \u001B[0mSTATE_SUSPEND\u001B[0m\u001B[0;34m:\u001B[0m\u001B[0;34m\u001B[0m\u001B[0;34m\u001B[0m\u001B[0m\n\u001B[0;32m--> 747\u001B[0;31m                     \u001B[0mself\u001B[0m\u001B[0;34m.\u001B[0m\u001B[0mdo_wait_suspend\u001B[0m\u001B[0;34m(\u001B[0m\u001B[0mthread\u001B[0m\u001B[0;34m,\u001B[0m \u001B[0mframe\u001B[0m\u001B[0;34m,\u001B[0m \u001B[0mevent\u001B[0m\u001B[0;34m,\u001B[0m \u001B[0marg\u001B[0m\u001B[0;34m)\u001B[0m\u001B[0;34m\u001B[0m\u001B[0;34m\u001B[0m\u001B[0m\n\u001B[0m\u001B[1;32m    748\u001B[0m                     \u001B[0;31m# No need to reset frame.f_trace to keep the same trace function.\u001B[0m\u001B[0;34m\u001B[0m\u001B[0;34m\u001B[0m\u001B[0;34m\u001B[0m\u001B[0m\n\u001B[1;32m    749\u001B[0m                     \u001B[0;32mreturn\u001B[0m \u001B[0mself\u001B[0m\u001B[0;34m.\u001B[0m\u001B[0mtrace_dispatch\u001B[0m\u001B[0;34m\u001B[0m\u001B[0;34m\u001B[0m\u001B[0m\n",
      "\u001B[0;32m~/.local/share/JetBrains/Toolbox/apps/PyCharm-P/ch-0/211.6693.115/plugins/python/helpers/pydev/_pydevd_bundle/pydevd_frame.py\u001B[0m in \u001B[0;36mdo_wait_suspend\u001B[0;34m(self, *args, **kwargs)\u001B[0m\n\u001B[1;32m    142\u001B[0m \u001B[0;34m\u001B[0m\u001B[0m\n\u001B[1;32m    143\u001B[0m     \u001B[0;32mdef\u001B[0m \u001B[0mdo_wait_suspend\u001B[0m\u001B[0;34m(\u001B[0m\u001B[0mself\u001B[0m\u001B[0;34m,\u001B[0m \u001B[0;34m*\u001B[0m\u001B[0margs\u001B[0m\u001B[0;34m,\u001B[0m \u001B[0;34m**\u001B[0m\u001B[0mkwargs\u001B[0m\u001B[0;34m)\u001B[0m\u001B[0;34m:\u001B[0m\u001B[0;34m\u001B[0m\u001B[0;34m\u001B[0m\u001B[0m\n\u001B[0;32m--> 144\u001B[0;31m         \u001B[0mself\u001B[0m\u001B[0;34m.\u001B[0m\u001B[0m_args\u001B[0m\u001B[0;34m[\u001B[0m\u001B[0;36m0\u001B[0m\u001B[0;34m]\u001B[0m\u001B[0;34m.\u001B[0m\u001B[0mdo_wait_suspend\u001B[0m\u001B[0;34m(\u001B[0m\u001B[0;34m*\u001B[0m\u001B[0margs\u001B[0m\u001B[0;34m,\u001B[0m \u001B[0;34m**\u001B[0m\u001B[0mkwargs\u001B[0m\u001B[0;34m)\u001B[0m\u001B[0;34m\u001B[0m\u001B[0;34m\u001B[0m\u001B[0m\n\u001B[0m\u001B[1;32m    145\u001B[0m \u001B[0;34m\u001B[0m\u001B[0m\n\u001B[1;32m    146\u001B[0m     \u001B[0;31m# IFDEF CYTHON\u001B[0m\u001B[0;34m\u001B[0m\u001B[0;34m\u001B[0m\u001B[0;34m\u001B[0m\u001B[0m\n",
      "\u001B[0;32m~/.local/share/JetBrains/Toolbox/apps/PyCharm-P/ch-0/211.6693.115/plugins/python/helpers/pydev/pydevd.py\u001B[0m in \u001B[0;36mdo_wait_suspend\u001B[0;34m(self, thread, frame, event, arg, send_suspend_message, is_unhandled_exception)\u001B[0m\n\u001B[1;32m   1145\u001B[0m \u001B[0;34m\u001B[0m\u001B[0m\n\u001B[1;32m   1146\u001B[0m         \u001B[0;32mwith\u001B[0m \u001B[0mself\u001B[0m\u001B[0;34m.\u001B[0m\u001B[0m_threads_suspended_single_notification\u001B[0m\u001B[0;34m.\u001B[0m\u001B[0mnotify_thread_suspended\u001B[0m\u001B[0;34m(\u001B[0m\u001B[0mthread_id\u001B[0m\u001B[0;34m,\u001B[0m \u001B[0mstop_reason\u001B[0m\u001B[0;34m)\u001B[0m\u001B[0;34m:\u001B[0m\u001B[0;34m\u001B[0m\u001B[0;34m\u001B[0m\u001B[0m\n\u001B[0;32m-> 1147\u001B[0;31m             \u001B[0mself\u001B[0m\u001B[0;34m.\u001B[0m\u001B[0m_do_wait_suspend\u001B[0m\u001B[0;34m(\u001B[0m\u001B[0mthread\u001B[0m\u001B[0;34m,\u001B[0m \u001B[0mframe\u001B[0m\u001B[0;34m,\u001B[0m \u001B[0mevent\u001B[0m\u001B[0;34m,\u001B[0m \u001B[0marg\u001B[0m\u001B[0;34m,\u001B[0m \u001B[0msuspend_type\u001B[0m\u001B[0;34m,\u001B[0m \u001B[0mfrom_this_thread\u001B[0m\u001B[0;34m)\u001B[0m\u001B[0;34m\u001B[0m\u001B[0;34m\u001B[0m\u001B[0m\n\u001B[0m\u001B[1;32m   1148\u001B[0m \u001B[0;34m\u001B[0m\u001B[0m\n\u001B[1;32m   1149\u001B[0m     \u001B[0;32mdef\u001B[0m \u001B[0m_do_wait_suspend\u001B[0m\u001B[0;34m(\u001B[0m\u001B[0mself\u001B[0m\u001B[0;34m,\u001B[0m \u001B[0mthread\u001B[0m\u001B[0;34m,\u001B[0m \u001B[0mframe\u001B[0m\u001B[0;34m,\u001B[0m \u001B[0mevent\u001B[0m\u001B[0;34m,\u001B[0m \u001B[0marg\u001B[0m\u001B[0;34m,\u001B[0m \u001B[0msuspend_type\u001B[0m\u001B[0;34m,\u001B[0m \u001B[0mfrom_this_thread\u001B[0m\u001B[0;34m)\u001B[0m\u001B[0;34m:\u001B[0m\u001B[0;34m\u001B[0m\u001B[0;34m\u001B[0m\u001B[0m\n",
      "\u001B[0;32m~/.local/share/JetBrains/Toolbox/apps/PyCharm-P/ch-0/211.6693.115/plugins/python/helpers/pydev/pydevd.py\u001B[0m in \u001B[0;36m_do_wait_suspend\u001B[0;34m(self, thread, frame, event, arg, suspend_type, from_this_thread)\u001B[0m\n\u001B[1;32m   1160\u001B[0m \u001B[0;34m\u001B[0m\u001B[0m\n\u001B[1;32m   1161\u001B[0m                 \u001B[0mself\u001B[0m\u001B[0;34m.\u001B[0m\u001B[0mprocess_internal_commands\u001B[0m\u001B[0;34m(\u001B[0m\u001B[0;34m)\u001B[0m\u001B[0;34m\u001B[0m\u001B[0;34m\u001B[0m\u001B[0m\n\u001B[0;32m-> 1162\u001B[0;31m                 \u001B[0mtime\u001B[0m\u001B[0;34m.\u001B[0m\u001B[0msleep\u001B[0m\u001B[0;34m(\u001B[0m\u001B[0;36m0.01\u001B[0m\u001B[0;34m)\u001B[0m\u001B[0;34m\u001B[0m\u001B[0;34m\u001B[0m\u001B[0m\n\u001B[0m\u001B[1;32m   1163\u001B[0m \u001B[0;34m\u001B[0m\u001B[0m\n\u001B[1;32m   1164\u001B[0m         \u001B[0mself\u001B[0m\u001B[0;34m.\u001B[0m\u001B[0mcancel_async_evaluation\u001B[0m\u001B[0;34m(\u001B[0m\u001B[0mget_current_thread_id\u001B[0m\u001B[0;34m(\u001B[0m\u001B[0mthread\u001B[0m\u001B[0;34m)\u001B[0m\u001B[0;34m,\u001B[0m \u001B[0mstr\u001B[0m\u001B[0;34m(\u001B[0m\u001B[0mid\u001B[0m\u001B[0;34m(\u001B[0m\u001B[0mframe\u001B[0m\u001B[0;34m)\u001B[0m\u001B[0;34m)\u001B[0m\u001B[0;34m)\u001B[0m\u001B[0;34m\u001B[0m\u001B[0;34m\u001B[0m\u001B[0m\n",
      "\u001B[0;31mKeyboardInterrupt\u001B[0m: "
     ]
    }
   ],
   "source": [
    "# VISUALIZATION\n",
    "import ClusterMind.IO.SJ2T_import as sj2tio\n",
    "import ClusterMind.IO.J3Tree_import as cmio\n",
    "import ClusterMind.cm_clustering as cmc\n",
    "\n",
    "visualization_flag = True\n",
    "if visualization_flag:\n",
    "    print(\">>>>>>>>>>>> Visualization\")\n",
    "\n",
    "    # cmc.plot_tSNE_3d(input2D, clusters)\n",
    "    # cmc.visualize_matrices(input2D, clusters)\n",
    "\n",
    "    threshold = 0.95\n",
    "    # labels, traces_index = sj2tio.import_SJ2T_labels(trace_measures_csv_file_path, threshold)\n",
    "    # cmc.visualize_constraints_in_clusters(clusters, labels, traces_index)\n",
    "    cmc.visualize_centroids_constraints(clusters, pca, threshold, measures_num, constraints_names, output_folder)\n",
    "else:\n",
    "    print(\">>>>>>>>>>>> Visualization SKIPPED\")"
   ],
   "metadata": {
    "collapsed": false,
    "pycharm": {
     "name": "#%%"
    }
   }
  }
 ],
 "metadata": {
  "kernelspec": {
   "display_name": "Python 3",
   "language": "python",
   "name": "python3"
  },
  "language_info": {
   "codemirror_mode": {
    "name": "ipython",
    "version": 2
   },
   "file_extension": ".py",
   "mimetype": "text/x-python",
   "name": "python",
   "nbconvert_exporter": "python",
   "pygments_lexer": "ipython2",
   "version": "2.7.6"
  }
 },
 "nbformat": 4,
 "nbformat_minor": 0
}